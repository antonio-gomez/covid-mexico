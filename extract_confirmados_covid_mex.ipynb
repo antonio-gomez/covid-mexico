{
  "nbformat": 4,
  "nbformat_minor": 0,
  "metadata": {
    "colab": {
      "name": "extract-confirmados-covid-mex.ipynb",
      "provenance": [],
      "collapsed_sections": [],
      "toc_visible": true
    },
    "kernelspec": {
      "name": "python3",
      "display_name": "Python 3"
    }
  },
  "cells": [
    {
      "cell_type": "code",
      "metadata": {
        "id": "Fas5btkjb9SC",
        "colab_type": "code",
        "outputId": "cf1fdcb7-a83a-4345-ab40-1d503e834f41",
        "colab": {
          "base_uri": "https://localhost:8080/",
          "height": 156
        }
      },
      "source": [
        "#Install tabula python wrapper\n",
        "!pip install tabula-py"
      ],
      "execution_count": 21,
      "outputs": [
        {
          "output_type": "stream",
          "text": [
            "Requirement already satisfied: tabula-py in /usr/local/lib/python3.6/dist-packages (2.1.0)\n",
            "Requirement already satisfied: distro in /usr/local/lib/python3.6/dist-packages (from tabula-py) (1.4.0)\n",
            "Requirement already satisfied: pandas>=0.25.3 in /usr/local/lib/python3.6/dist-packages (from tabula-py) (0.25.3)\n",
            "Requirement already satisfied: numpy in /usr/local/lib/python3.6/dist-packages (from tabula-py) (1.18.2)\n",
            "Requirement already satisfied: pytz>=2017.2 in /usr/local/lib/python3.6/dist-packages (from pandas>=0.25.3->tabula-py) (2018.9)\n",
            "Requirement already satisfied: python-dateutil>=2.6.1 in /usr/local/lib/python3.6/dist-packages (from pandas>=0.25.3->tabula-py) (2.8.1)\n",
            "Requirement already satisfied: six>=1.5 in /usr/local/lib/python3.6/dist-packages (from python-dateutil>=2.6.1->pandas>=0.25.3->tabula-py) (1.12.0)\n"
          ],
          "name": "stdout"
        }
      ]
    },
    {
      "cell_type": "code",
      "metadata": {
        "id": "wJyU62pJc-LB",
        "colab_type": "code",
        "colab": {}
      },
      "source": [
        "from tabula import read_pdf\n",
        "import pandas as pd\n",
        "from datetime import date"
      ],
      "execution_count": 0,
      "outputs": []
    },
    {
      "cell_type": "code",
      "metadata": {
        "id": "9pMw3Y_u_lit",
        "colab_type": "code",
        "colab": {}
      },
      "source": [
        "# Use the url from www.gob.mx\n",
        "# TODO: check how their cms works, seems like every day they upload 4 pdfs... \n",
        "# check file/<number>/ and date at the end\n",
        "\n",
        "positivos =\"https://www.gob.mx/cms/uploads/attachment/file/542354/Tabla_casos_positivos_COVID-19_resultado_InDRE_2020.03.19.pdf\""
      ],
      "execution_count": 0,
      "outputs": []
    },
    {
      "cell_type": "code",
      "metadata": {
        "id": "FMVBmy0_dICg",
        "colab_type": "code",
        "colab": {}
      },
      "source": [
        "# specify the area for page 1 since the column names are not being picked up by tabula\n",
        "# A primer on PDF coordinate system to pass values to area param\n",
        "# https://www.leadtools.com/help/leadtools/v19/dh/to/pdf-topics-pdfcoordinatesystem.html\n",
        "df = read_pdf(positivos, area=[122, 0, 792, 792], pages=\"1\")"
      ],
      "execution_count": 0,
      "outputs": []
    },
    {
      "cell_type": "code",
      "metadata": {
        "id": "tvrgV7jg4Stc",
        "colab_type": "code",
        "colab": {}
      },
      "source": [
        "# Get the rest of the pages in a second data frame \n",
        "# TODO: seems like is not reading the first row, maybe because it doesnt have the upper border\n",
        "df2 = read_pdf(positivos, pages=\"all\")"
      ],
      "execution_count": 0,
      "outputs": []
    },
    {
      "cell_type": "markdown",
      "metadata": {
        "id": "68EJhvwIobVm",
        "colab_type": "text"
      },
      "source": [
        "# Cleaning the first data frame"
      ]
    },
    {
      "cell_type": "code",
      "metadata": {
        "id": "H_Gqpv4bdQQA",
        "colab_type": "code",
        "outputId": "e135430d-f519-406d-af1a-e203631595cc",
        "colab": {
          "base_uri": "https://localhost:8080/",
          "height": 255
        }
      },
      "source": [
        "# Tabula outputs unformatted headers...\n",
        "df[0].head()"
      ],
      "execution_count": 26,
      "outputs": [
        {
          "output_type": "execute_result",
          "data": {
            "text/html": [
              "<div>\n",
              "<style scoped>\n",
              "    .dataframe tbody tr th:only-of-type {\n",
              "        vertical-align: middle;\n",
              "    }\n",
              "\n",
              "    .dataframe tbody tr th {\n",
              "        vertical-align: top;\n",
              "    }\n",
              "\n",
              "    .dataframe thead th {\n",
              "        text-align: right;\n",
              "    }\n",
              "</style>\n",
              "<table border=\"1\" class=\"dataframe\">\n",
              "  <thead>\n",
              "    <tr style=\"text-align: right;\">\n",
              "      <th></th>\n",
              "      <th>Unnamed: 0</th>\n",
              "      <th>Unnamed: 1</th>\n",
              "      <th>Unnamed: 2</th>\n",
              "      <th>Unnamed: 3</th>\n",
              "      <th>Unnamed: 4</th>\n",
              "      <th>Unnamed: 5</th>\n",
              "      <th>Unnamed: 6</th>\n",
              "      <th>Unnamed: 7</th>\n",
              "      <th>Unnamed: 8</th>\n",
              "    </tr>\n",
              "  </thead>\n",
              "  <tbody>\n",
              "    <tr>\n",
              "      <th>0</th>\n",
              "      <td>1</td>\n",
              "      <td>CIUDAD DE MÉXICO</td>\n",
              "      <td>M</td>\n",
              "      <td>35</td>\n",
              "      <td>22/02/2020</td>\n",
              "      <td>confirmado</td>\n",
              "      <td>Italia</td>\n",
              "      <td>22/02/2020</td>\n",
              "      <td>NaN</td>\n",
              "    </tr>\n",
              "    <tr>\n",
              "      <th>1</th>\n",
              "      <td>2</td>\n",
              "      <td>SINALOA</td>\n",
              "      <td>M</td>\n",
              "      <td>41</td>\n",
              "      <td>22/02/2020</td>\n",
              "      <td>confirmado</td>\n",
              "      <td>Italia</td>\n",
              "      <td>21/02/2020</td>\n",
              "      <td>NaN</td>\n",
              "    </tr>\n",
              "    <tr>\n",
              "      <th>2</th>\n",
              "      <td>3</td>\n",
              "      <td>CIUDAD DE MÉXICO</td>\n",
              "      <td>M</td>\n",
              "      <td>59</td>\n",
              "      <td>23/02/2020</td>\n",
              "      <td>confirmado</td>\n",
              "      <td>Italia</td>\n",
              "      <td>22/02/2020</td>\n",
              "      <td>NaN</td>\n",
              "    </tr>\n",
              "    <tr>\n",
              "      <th>3</th>\n",
              "      <td>4</td>\n",
              "      <td>COAHUILA</td>\n",
              "      <td>F</td>\n",
              "      <td>20</td>\n",
              "      <td>27/02/2020</td>\n",
              "      <td>confirmado</td>\n",
              "      <td>Italia</td>\n",
              "      <td>25/02/2020</td>\n",
              "      <td>NaN</td>\n",
              "    </tr>\n",
              "    <tr>\n",
              "      <th>4</th>\n",
              "      <td>5</td>\n",
              "      <td>CHIAPAS</td>\n",
              "      <td>F</td>\n",
              "      <td>18</td>\n",
              "      <td>25/02/2020</td>\n",
              "      <td>confirmado</td>\n",
              "      <td>Italia</td>\n",
              "      <td>25/02/2020</td>\n",
              "      <td>NaN</td>\n",
              "    </tr>\n",
              "  </tbody>\n",
              "</table>\n",
              "</div>"
            ],
            "text/plain": [
              "   Unnamed: 0        Unnamed: 1 Unnamed: 2  ...  Unnamed: 6  Unnamed: 7 Unnamed: 8\n",
              "0           1  CIUDAD DE MÉXICO          M  ...      Italia  22/02/2020        NaN\n",
              "1           2           SINALOA          M  ...      Italia  21/02/2020        NaN\n",
              "2           3  CIUDAD DE MÉXICO          M  ...      Italia  22/02/2020        NaN\n",
              "3           4          COAHUILA          F  ...      Italia  25/02/2020        NaN\n",
              "4           5           CHIAPAS          F  ...      Italia  25/02/2020        NaN\n",
              "\n",
              "[5 rows x 9 columns]"
            ]
          },
          "metadata": {
            "tags": []
          },
          "execution_count": 26
        }
      ]
    },
    {
      "cell_type": "code",
      "metadata": {
        "id": "OvTP9gLUoTuz",
        "colab_type": "code",
        "colab": {}
      },
      "source": [
        "# drop the first row with non usable data\n",
        "df0 = df[0]\n",
        "\n",
        "# Rename the columns\n",
        "newcols = {\n",
        "    'Unnamed: 0': 'No de caso', \n",
        "    'Unnamed: 1': 'Estado', \n",
        "    'Unnamed: 2': 'Sexo',\n",
        "    'Unnamed: 3': 'Edad',\n",
        "    'Unnamed: 4': 'Fecha de Inicio de síntomas',\n",
        "    'Unnamed: 5': 'Identificación de COVID-19 por RTPCR en tiempo real',\n",
        "    'Unnamed: 6': 'Procedencia',\n",
        "    'Unnamed: 7': 'Fecha de llegada a México'\n",
        "}\n",
        "\n",
        "# Throws a warning in colab, unfortunatly I'm still not proficient with python...\n",
        "df0.rename(columns=newcols, inplace=True)"
      ],
      "execution_count": 0,
      "outputs": []
    },
    {
      "cell_type": "code",
      "metadata": {
        "id": "3dED62lKzPDw",
        "colab_type": "code",
        "outputId": "6998709c-8b85-44ce-97d5-28863c5b5cc8",
        "colab": {
          "base_uri": "https://localhost:8080/",
          "height": 306
        }
      },
      "source": [
        "df0.head()"
      ],
      "execution_count": 28,
      "outputs": [
        {
          "output_type": "execute_result",
          "data": {
            "text/html": [
              "<div>\n",
              "<style scoped>\n",
              "    .dataframe tbody tr th:only-of-type {\n",
              "        vertical-align: middle;\n",
              "    }\n",
              "\n",
              "    .dataframe tbody tr th {\n",
              "        vertical-align: top;\n",
              "    }\n",
              "\n",
              "    .dataframe thead th {\n",
              "        text-align: right;\n",
              "    }\n",
              "</style>\n",
              "<table border=\"1\" class=\"dataframe\">\n",
              "  <thead>\n",
              "    <tr style=\"text-align: right;\">\n",
              "      <th></th>\n",
              "      <th>No de caso</th>\n",
              "      <th>Estado</th>\n",
              "      <th>Sexo</th>\n",
              "      <th>Edad</th>\n",
              "      <th>Fecha de Inicio de síntomas</th>\n",
              "      <th>Identificación de COVID-19 por RTPCR en tiempo real</th>\n",
              "      <th>Procedencia</th>\n",
              "      <th>Fecha de llegada a México</th>\n",
              "      <th>Unnamed: 8</th>\n",
              "    </tr>\n",
              "  </thead>\n",
              "  <tbody>\n",
              "    <tr>\n",
              "      <th>0</th>\n",
              "      <td>1</td>\n",
              "      <td>CIUDAD DE MÉXICO</td>\n",
              "      <td>M</td>\n",
              "      <td>35</td>\n",
              "      <td>22/02/2020</td>\n",
              "      <td>confirmado</td>\n",
              "      <td>Italia</td>\n",
              "      <td>22/02/2020</td>\n",
              "      <td>NaN</td>\n",
              "    </tr>\n",
              "    <tr>\n",
              "      <th>1</th>\n",
              "      <td>2</td>\n",
              "      <td>SINALOA</td>\n",
              "      <td>M</td>\n",
              "      <td>41</td>\n",
              "      <td>22/02/2020</td>\n",
              "      <td>confirmado</td>\n",
              "      <td>Italia</td>\n",
              "      <td>21/02/2020</td>\n",
              "      <td>NaN</td>\n",
              "    </tr>\n",
              "    <tr>\n",
              "      <th>2</th>\n",
              "      <td>3</td>\n",
              "      <td>CIUDAD DE MÉXICO</td>\n",
              "      <td>M</td>\n",
              "      <td>59</td>\n",
              "      <td>23/02/2020</td>\n",
              "      <td>confirmado</td>\n",
              "      <td>Italia</td>\n",
              "      <td>22/02/2020</td>\n",
              "      <td>NaN</td>\n",
              "    </tr>\n",
              "    <tr>\n",
              "      <th>3</th>\n",
              "      <td>4</td>\n",
              "      <td>COAHUILA</td>\n",
              "      <td>F</td>\n",
              "      <td>20</td>\n",
              "      <td>27/02/2020</td>\n",
              "      <td>confirmado</td>\n",
              "      <td>Italia</td>\n",
              "      <td>25/02/2020</td>\n",
              "      <td>NaN</td>\n",
              "    </tr>\n",
              "    <tr>\n",
              "      <th>4</th>\n",
              "      <td>5</td>\n",
              "      <td>CHIAPAS</td>\n",
              "      <td>F</td>\n",
              "      <td>18</td>\n",
              "      <td>25/02/2020</td>\n",
              "      <td>confirmado</td>\n",
              "      <td>Italia</td>\n",
              "      <td>25/02/2020</td>\n",
              "      <td>NaN</td>\n",
              "    </tr>\n",
              "  </tbody>\n",
              "</table>\n",
              "</div>"
            ],
            "text/plain": [
              "   No de caso            Estado  ... Fecha de llegada a México  Unnamed: 8\n",
              "0           1  CIUDAD DE MÉXICO  ...                22/02/2020         NaN\n",
              "1           2           SINALOA  ...                21/02/2020         NaN\n",
              "2           3  CIUDAD DE MÉXICO  ...                22/02/2020         NaN\n",
              "3           4          COAHUILA  ...                25/02/2020         NaN\n",
              "4           5           CHIAPAS  ...                25/02/2020         NaN\n",
              "\n",
              "[5 rows x 9 columns]"
            ]
          },
          "metadata": {
            "tags": []
          },
          "execution_count": 28
        }
      ]
    },
    {
      "cell_type": "code",
      "metadata": {
        "id": "l18ToVHdxSU4",
        "colab_type": "code",
        "colab": {}
      },
      "source": [
        "# Remove the extra columns:\n",
        "columns = ['Unnamed: 8']\n",
        "df0 = df0.drop(labels=columns, axis=1)"
      ],
      "execution_count": 0,
      "outputs": []
    },
    {
      "cell_type": "code",
      "metadata": {
        "id": "sYZ95IK2pOoo",
        "colab_type": "code",
        "outputId": "4abc2adb-f59d-4528-efa3-fff8ac1e5cbc",
        "colab": {
          "base_uri": "https://localhost:8080/",
          "height": 272
        }
      },
      "source": [
        "df0.head()"
      ],
      "execution_count": 30,
      "outputs": [
        {
          "output_type": "execute_result",
          "data": {
            "text/html": [
              "<div>\n",
              "<style scoped>\n",
              "    .dataframe tbody tr th:only-of-type {\n",
              "        vertical-align: middle;\n",
              "    }\n",
              "\n",
              "    .dataframe tbody tr th {\n",
              "        vertical-align: top;\n",
              "    }\n",
              "\n",
              "    .dataframe thead th {\n",
              "        text-align: right;\n",
              "    }\n",
              "</style>\n",
              "<table border=\"1\" class=\"dataframe\">\n",
              "  <thead>\n",
              "    <tr style=\"text-align: right;\">\n",
              "      <th></th>\n",
              "      <th>No de caso</th>\n",
              "      <th>Estado</th>\n",
              "      <th>Sexo</th>\n",
              "      <th>Edad</th>\n",
              "      <th>Fecha de Inicio de síntomas</th>\n",
              "      <th>Identificación de COVID-19 por RTPCR en tiempo real</th>\n",
              "      <th>Procedencia</th>\n",
              "      <th>Fecha de llegada a México</th>\n",
              "    </tr>\n",
              "  </thead>\n",
              "  <tbody>\n",
              "    <tr>\n",
              "      <th>0</th>\n",
              "      <td>1</td>\n",
              "      <td>CIUDAD DE MÉXICO</td>\n",
              "      <td>M</td>\n",
              "      <td>35</td>\n",
              "      <td>22/02/2020</td>\n",
              "      <td>confirmado</td>\n",
              "      <td>Italia</td>\n",
              "      <td>22/02/2020</td>\n",
              "    </tr>\n",
              "    <tr>\n",
              "      <th>1</th>\n",
              "      <td>2</td>\n",
              "      <td>SINALOA</td>\n",
              "      <td>M</td>\n",
              "      <td>41</td>\n",
              "      <td>22/02/2020</td>\n",
              "      <td>confirmado</td>\n",
              "      <td>Italia</td>\n",
              "      <td>21/02/2020</td>\n",
              "    </tr>\n",
              "    <tr>\n",
              "      <th>2</th>\n",
              "      <td>3</td>\n",
              "      <td>CIUDAD DE MÉXICO</td>\n",
              "      <td>M</td>\n",
              "      <td>59</td>\n",
              "      <td>23/02/2020</td>\n",
              "      <td>confirmado</td>\n",
              "      <td>Italia</td>\n",
              "      <td>22/02/2020</td>\n",
              "    </tr>\n",
              "    <tr>\n",
              "      <th>3</th>\n",
              "      <td>4</td>\n",
              "      <td>COAHUILA</td>\n",
              "      <td>F</td>\n",
              "      <td>20</td>\n",
              "      <td>27/02/2020</td>\n",
              "      <td>confirmado</td>\n",
              "      <td>Italia</td>\n",
              "      <td>25/02/2020</td>\n",
              "    </tr>\n",
              "    <tr>\n",
              "      <th>4</th>\n",
              "      <td>5</td>\n",
              "      <td>CHIAPAS</td>\n",
              "      <td>F</td>\n",
              "      <td>18</td>\n",
              "      <td>25/02/2020</td>\n",
              "      <td>confirmado</td>\n",
              "      <td>Italia</td>\n",
              "      <td>25/02/2020</td>\n",
              "    </tr>\n",
              "  </tbody>\n",
              "</table>\n",
              "</div>"
            ],
            "text/plain": [
              "   No de caso            Estado  ... Procedencia  Fecha de llegada a México\n",
              "0           1  CIUDAD DE MÉXICO  ...      Italia                 22/02/2020\n",
              "1           2           SINALOA  ...      Italia                 21/02/2020\n",
              "2           3  CIUDAD DE MÉXICO  ...      Italia                 22/02/2020\n",
              "3           4          COAHUILA  ...      Italia                 25/02/2020\n",
              "4           5           CHIAPAS  ...      Italia                 25/02/2020\n",
              "\n",
              "[5 rows x 8 columns]"
            ]
          },
          "metadata": {
            "tags": []
          },
          "execution_count": 30
        }
      ]
    },
    {
      "cell_type": "markdown",
      "metadata": {
        "id": "4ThC72MT7Amf",
        "colab_type": "text"
      },
      "source": [
        "## Concatenate with the other data frames"
      ]
    },
    {
      "cell_type": "code",
      "metadata": {
        "id": "EwMK_Ub4CgxM",
        "colab_type": "code",
        "outputId": "91f5433f-bbd1-453b-a457-2dc803444a2d",
        "colab": {
          "base_uri": "https://localhost:8080/",
          "height": 34
        }
      },
      "source": [
        "# Data frame 2 should have all pages...\n",
        "len(df2)"
      ],
      "execution_count": 31,
      "outputs": [
        {
          "output_type": "execute_result",
          "data": {
            "text/plain": [
              "4"
            ]
          },
          "metadata": {
            "tags": []
          },
          "execution_count": 31
        }
      ]
    },
    {
      "cell_type": "code",
      "metadata": {
        "id": "kVcQYegu68gK",
        "colab_type": "code",
        "outputId": "2d0a5915-296a-43db-aedf-b813e1a2c527",
        "colab": {
          "base_uri": "https://localhost:8080/",
          "height": 204
        }
      },
      "source": [
        "## Remove page 1 since we already have it\n",
        "df2 = df2[1:]\n",
        "df2[0].head()"
      ],
      "execution_count": 32,
      "outputs": [
        {
          "output_type": "execute_result",
          "data": {
            "text/html": [
              "<div>\n",
              "<style scoped>\n",
              "    .dataframe tbody tr th:only-of-type {\n",
              "        vertical-align: middle;\n",
              "    }\n",
              "\n",
              "    .dataframe tbody tr th {\n",
              "        vertical-align: top;\n",
              "    }\n",
              "\n",
              "    .dataframe thead th {\n",
              "        text-align: right;\n",
              "    }\n",
              "</style>\n",
              "<table border=\"1\" class=\"dataframe\">\n",
              "  <thead>\n",
              "    <tr style=\"text-align: right;\">\n",
              "      <th></th>\n",
              "      <th>47</th>\n",
              "      <th>NUEVO LEÓN</th>\n",
              "      <th>M</th>\n",
              "      <th>27</th>\n",
              "      <th>11/03/2020</th>\n",
              "      <th>confirmado</th>\n",
              "      <th>España</th>\n",
              "      <th>13/03/2020</th>\n",
              "    </tr>\n",
              "  </thead>\n",
              "  <tbody>\n",
              "    <tr>\n",
              "      <th>0</th>\n",
              "      <td>48</td>\n",
              "      <td>NUEVO LEÓN</td>\n",
              "      <td>M</td>\n",
              "      <td>46</td>\n",
              "      <td>06/03/2020</td>\n",
              "      <td>confirmado</td>\n",
              "      <td>Estados Unidos</td>\n",
              "      <td>03/03/2020</td>\n",
              "    </tr>\n",
              "    <tr>\n",
              "      <th>1</th>\n",
              "      <td>49</td>\n",
              "      <td>GUERRERO</td>\n",
              "      <td>M</td>\n",
              "      <td>32</td>\n",
              "      <td>12/03/2020</td>\n",
              "      <td>confirmado</td>\n",
              "      <td>Contacto</td>\n",
              "      <td>NA</td>\n",
              "    </tr>\n",
              "    <tr>\n",
              "      <th>2</th>\n",
              "      <td>50</td>\n",
              "      <td>DURANGO</td>\n",
              "      <td>M</td>\n",
              "      <td>32</td>\n",
              "      <td>11/03/2020</td>\n",
              "      <td>confirmado</td>\n",
              "      <td>Alemania</td>\n",
              "      <td>11/03/2020</td>\n",
              "    </tr>\n",
              "    <tr>\n",
              "      <th>3</th>\n",
              "      <td>51</td>\n",
              "      <td>GUERRERO</td>\n",
              "      <td>F</td>\n",
              "      <td>22</td>\n",
              "      <td>09/03/2020</td>\n",
              "      <td>confirmado</td>\n",
              "      <td>España</td>\n",
              "      <td>12/03/2020</td>\n",
              "    </tr>\n",
              "    <tr>\n",
              "      <th>4</th>\n",
              "      <td>52</td>\n",
              "      <td>PUEBLA</td>\n",
              "      <td>F</td>\n",
              "      <td>27</td>\n",
              "      <td>05/03/2020</td>\n",
              "      <td>confirmado</td>\n",
              "      <td>España</td>\n",
              "      <td>09/03/2020</td>\n",
              "    </tr>\n",
              "  </tbody>\n",
              "</table>\n",
              "</div>"
            ],
            "text/plain": [
              "   47  NUEVO LEÓN  M  27  11/03/2020  confirmado          España  13/03/2020\n",
              "0  48  NUEVO LEÓN  M  46  06/03/2020  confirmado  Estados Unidos  03/03/2020\n",
              "1  49    GUERRERO  M  32  12/03/2020  confirmado        Contacto          NA\n",
              "2  50     DURANGO  M  32  11/03/2020  confirmado        Alemania  11/03/2020\n",
              "3  51    GUERRERO  F  22  09/03/2020  confirmado          España  12/03/2020\n",
              "4  52      PUEBLA  F  27  05/03/2020  confirmado          España  09/03/2020"
            ]
          },
          "metadata": {
            "tags": []
          },
          "execution_count": 32
        }
      ]
    },
    {
      "cell_type": "code",
      "metadata": {
        "id": "WMROw0uF832N",
        "colab_type": "code",
        "colab": {}
      },
      "source": [
        "# Add column headers to data frames\n",
        "cols = ['No de caso', \n",
        "    'Estado', \n",
        "    'Sexo',\n",
        "    'Edad',\n",
        "    'Fecha de Inicio de síntomas',\n",
        "    'Identificación de COVID-19 por RTPCR en tiempo real',\n",
        "    'Procedencia',\n",
        "    'Fecha de llegada a México'\n",
        "]\n",
        "\n",
        "# Initialize list with the cleaned df 0 \n",
        "dataFrames = [df0]\n",
        "\n",
        "# Iterate through the dataframes in df2 and add the column headers\n",
        "for dfx in df2:\n",
        "    # Add header value as data\n",
        "    first = dfx.columns\n",
        "    first_row = dict( zip(cols, first))\n",
        "    data = pd.DataFrame([first_row])\n",
        "    dataframe = pd.concat([data, pd.DataFrame(dfx.values, columns=cols)])\n",
        "    # append the dataframes\n",
        "    dataFrames.append(dataframe)\n"
      ],
      "execution_count": 0,
      "outputs": []
    },
    {
      "cell_type": "code",
      "metadata": {
        "id": "-zPmguN1-UrC",
        "colab_type": "code",
        "outputId": "3265b9dd-fc74-4b97-d0ba-79c7b0facba3",
        "colab": {
          "base_uri": "https://localhost:8080/",
          "height": 538
        }
      },
      "source": [
        "# Concatenate the cleaned data frames\n",
        "data = pd.concat(dataFrames,ignore_index=True)\n",
        "data"
      ],
      "execution_count": 34,
      "outputs": [
        {
          "output_type": "execute_result",
          "data": {
            "text/html": [
              "<div>\n",
              "<style scoped>\n",
              "    .dataframe tbody tr th:only-of-type {\n",
              "        vertical-align: middle;\n",
              "    }\n",
              "\n",
              "    .dataframe tbody tr th {\n",
              "        vertical-align: top;\n",
              "    }\n",
              "\n",
              "    .dataframe thead th {\n",
              "        text-align: right;\n",
              "    }\n",
              "</style>\n",
              "<table border=\"1\" class=\"dataframe\">\n",
              "  <thead>\n",
              "    <tr style=\"text-align: right;\">\n",
              "      <th></th>\n",
              "      <th>No de caso</th>\n",
              "      <th>Estado</th>\n",
              "      <th>Sexo</th>\n",
              "      <th>Edad</th>\n",
              "      <th>Fecha de Inicio de síntomas</th>\n",
              "      <th>Identificación de COVID-19 por RTPCR en tiempo real</th>\n",
              "      <th>Procedencia</th>\n",
              "      <th>Fecha de llegada a México</th>\n",
              "    </tr>\n",
              "  </thead>\n",
              "  <tbody>\n",
              "    <tr>\n",
              "      <th>0</th>\n",
              "      <td>1</td>\n",
              "      <td>CIUDAD DE MÉXICO</td>\n",
              "      <td>M</td>\n",
              "      <td>35</td>\n",
              "      <td>22/02/2020</td>\n",
              "      <td>confirmado</td>\n",
              "      <td>Italia</td>\n",
              "      <td>22/02/2020</td>\n",
              "    </tr>\n",
              "    <tr>\n",
              "      <th>1</th>\n",
              "      <td>2</td>\n",
              "      <td>SINALOA</td>\n",
              "      <td>M</td>\n",
              "      <td>41</td>\n",
              "      <td>22/02/2020</td>\n",
              "      <td>confirmado</td>\n",
              "      <td>Italia</td>\n",
              "      <td>21/02/2020</td>\n",
              "    </tr>\n",
              "    <tr>\n",
              "      <th>2</th>\n",
              "      <td>3</td>\n",
              "      <td>CIUDAD DE MÉXICO</td>\n",
              "      <td>M</td>\n",
              "      <td>59</td>\n",
              "      <td>23/02/2020</td>\n",
              "      <td>confirmado</td>\n",
              "      <td>Italia</td>\n",
              "      <td>22/02/2020</td>\n",
              "    </tr>\n",
              "    <tr>\n",
              "      <th>3</th>\n",
              "      <td>4</td>\n",
              "      <td>COAHUILA</td>\n",
              "      <td>F</td>\n",
              "      <td>20</td>\n",
              "      <td>27/02/2020</td>\n",
              "      <td>confirmado</td>\n",
              "      <td>Italia</td>\n",
              "      <td>25/02/2020</td>\n",
              "    </tr>\n",
              "    <tr>\n",
              "      <th>4</th>\n",
              "      <td>5</td>\n",
              "      <td>CHIAPAS</td>\n",
              "      <td>F</td>\n",
              "      <td>18</td>\n",
              "      <td>25/02/2020</td>\n",
              "      <td>confirmado</td>\n",
              "      <td>Italia</td>\n",
              "      <td>25/02/2020</td>\n",
              "    </tr>\n",
              "    <tr>\n",
              "      <th>...</th>\n",
              "      <td>...</td>\n",
              "      <td>...</td>\n",
              "      <td>...</td>\n",
              "      <td>...</td>\n",
              "      <td>...</td>\n",
              "      <td>...</td>\n",
              "      <td>...</td>\n",
              "      <td>...</td>\n",
              "    </tr>\n",
              "    <tr>\n",
              "      <th>159</th>\n",
              "      <td>160</td>\n",
              "      <td>JALISCO</td>\n",
              "      <td>M</td>\n",
              "      <td>29</td>\n",
              "      <td>08/03/2020</td>\n",
              "      <td>confirmado</td>\n",
              "      <td>Estados Unidos</td>\n",
              "      <td>07/03/2020</td>\n",
              "    </tr>\n",
              "    <tr>\n",
              "      <th>160</th>\n",
              "      <td>161</td>\n",
              "      <td>JALISCO</td>\n",
              "      <td>M</td>\n",
              "      <td>19</td>\n",
              "      <td>14/03/2020</td>\n",
              "      <td>confirmado</td>\n",
              "      <td>España</td>\n",
              "      <td>13/03/2020</td>\n",
              "    </tr>\n",
              "    <tr>\n",
              "      <th>161</th>\n",
              "      <td>162</td>\n",
              "      <td>JALISCO</td>\n",
              "      <td>M</td>\n",
              "      <td>63</td>\n",
              "      <td>14/03/2020</td>\n",
              "      <td>confirmado</td>\n",
              "      <td>Estados Unidos</td>\n",
              "      <td>14/03/2020</td>\n",
              "    </tr>\n",
              "    <tr>\n",
              "      <th>162</th>\n",
              "      <td>163</td>\n",
              "      <td>CHIAPAS</td>\n",
              "      <td>M</td>\n",
              "      <td>47</td>\n",
              "      <td>14/03/2020</td>\n",
              "      <td>confirmado</td>\n",
              "      <td>Alemania</td>\n",
              "      <td>13/03/2020</td>\n",
              "    </tr>\n",
              "    <tr>\n",
              "      <th>163</th>\n",
              "      <td>164</td>\n",
              "      <td>CIUDAD DE MÉXICO</td>\n",
              "      <td>F</td>\n",
              "      <td>38</td>\n",
              "      <td>14/03/2020</td>\n",
              "      <td>confirmado</td>\n",
              "      <td>Contacto</td>\n",
              "      <td>NA</td>\n",
              "    </tr>\n",
              "  </tbody>\n",
              "</table>\n",
              "<p>164 rows × 8 columns</p>\n",
              "</div>"
            ],
            "text/plain": [
              "    No de caso            Estado  ...     Procedencia Fecha de llegada a México\n",
              "0            1  CIUDAD DE MÉXICO  ...          Italia                22/02/2020\n",
              "1            2           SINALOA  ...          Italia                21/02/2020\n",
              "2            3  CIUDAD DE MÉXICO  ...          Italia                22/02/2020\n",
              "3            4          COAHUILA  ...          Italia                25/02/2020\n",
              "4            5           CHIAPAS  ...          Italia                25/02/2020\n",
              "..         ...               ...  ...             ...                       ...\n",
              "159        160           JALISCO  ...  Estados Unidos                07/03/2020\n",
              "160        161           JALISCO  ...          España                13/03/2020\n",
              "161        162           JALISCO  ...  Estados Unidos                14/03/2020\n",
              "162        163           CHIAPAS  ...        Alemania                13/03/2020\n",
              "163        164  CIUDAD DE MÉXICO  ...        Contacto                        NA\n",
              "\n",
              "[164 rows x 8 columns]"
            ]
          },
          "metadata": {
            "tags": []
          },
          "execution_count": 34
        }
      ]
    },
    {
      "cell_type": "markdown",
      "metadata": {
        "id": "JgTnxlbp-UFZ",
        "colab_type": "text"
      },
      "source": [
        "## Export the data set:"
      ]
    },
    {
      "cell_type": "code",
      "metadata": {
        "id": "uiF6mTpJ8XBM",
        "colab_type": "code",
        "colab": {}
      },
      "source": [
        "today = date.today()\n",
        "d1 = today.strftime(\"%Y-%m-%d\")\n",
        "filename = \"confirmados-\"+ d1+\".csv\"\n",
        "data.to_csv(filename)"
      ],
      "execution_count": 0,
      "outputs": []
    }
  ]
}