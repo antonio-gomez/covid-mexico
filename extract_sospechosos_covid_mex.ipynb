{
  "nbformat": 4,
  "nbformat_minor": 0,
  "metadata": {
    "colab": {
      "name": "extract-sospechosos-covid-mex.ipynb",
      "provenance": [],
      "collapsed_sections": [],
      "toc_visible": true
    },
    "kernelspec": {
      "name": "python3",
      "display_name": "Python 3"
    }
  },
  "cells": [
    {
      "cell_type": "code",
      "metadata": {
        "id": "Fas5btkjb9SC",
        "colab_type": "code",
        "colab": {}
      },
      "source": [
        "#Install tabula python wrapper\n",
        "!pip install tabula-py"
      ],
      "execution_count": 0,
      "outputs": []
    },
    {
      "cell_type": "code",
      "metadata": {
        "id": "wJyU62pJc-LB",
        "colab_type": "code",
        "colab": {}
      },
      "source": [
        "from tabula import read_pdf\n",
        "import pandas as pd\n",
        "from datetime import date"
      ],
      "execution_count": 0,
      "outputs": []
    },
    {
      "cell_type": "code",
      "metadata": {
        "id": "9pMw3Y_u_lit",
        "colab_type": "code",
        "colab": {}
      },
      "source": [
        "# Use the url from www.gob.mx\n",
        "# TODO: check how their cms works, seems like every day they upload 4 pdfs... \n",
        "# check file/<number>/ and date at the end\n",
        "\n",
        "sospechosos =\"https://www.gob.mx/cms/uploads/attachment/file/542103/Tabla_casos_sospechosos_COVID-19_2020.03.18.pdf\""
      ],
      "execution_count": 0,
      "outputs": []
    },
    {
      "cell_type": "code",
      "metadata": {
        "id": "FMVBmy0_dICg",
        "colab_type": "code",
        "colab": {}
      },
      "source": [
        "# specify the area for page 1 since the column names are not being picked up by tabula\n",
        "# A primer on PDF coordinate system to pass values to area param\n",
        "# https://www.leadtools.com/help/leadtools/v19/dh/to/pdf-topics-pdfcoordinatesystem.html\n",
        "df = read_pdf(sospechosos, area=[90, 0, 792, 792], pages=\"1\")"
      ],
      "execution_count": 0,
      "outputs": []
    },
    {
      "cell_type": "code",
      "metadata": {
        "id": "tvrgV7jg4Stc",
        "colab_type": "code",
        "colab": {}
      },
      "source": [
        "# Get the rest of the pages in a second data frame \n",
        "# TODO: seems like is not reading the first row, maybe because it doesnt have the upper border\n",
        "df2 = read_pdf(sospechosos, pages=\"all\")"
      ],
      "execution_count": 0,
      "outputs": []
    },
    {
      "cell_type": "markdown",
      "metadata": {
        "id": "68EJhvwIobVm",
        "colab_type": "text"
      },
      "source": [
        "# Cleaning the first data frame"
      ]
    },
    {
      "cell_type": "code",
      "metadata": {
        "id": "H_Gqpv4bdQQA",
        "colab_type": "code",
        "colab": {
          "base_uri": "https://localhost:8080/",
          "height": 326
        },
        "outputId": "77f90aba-4b5c-45ac-8df9-af4031b939f2"
      },
      "source": [
        "# Tabula outputs unformatted headers...\n",
        "df[0].head()"
      ],
      "execution_count": 153,
      "outputs": [
        {
          "output_type": "execute_result",
          "data": {
            "text/html": [
              "<div>\n",
              "<style scoped>\n",
              "    .dataframe tbody tr th:only-of-type {\n",
              "        vertical-align: middle;\n",
              "    }\n",
              "\n",
              "    .dataframe tbody tr th {\n",
              "        vertical-align: top;\n",
              "    }\n",
              "\n",
              "    .dataframe thead th {\n",
              "        text-align: right;\n",
              "    }\n",
              "</style>\n",
              "<table border=\"1\" class=\"dataframe\">\n",
              "  <thead>\n",
              "    <tr style=\"text-align: right;\">\n",
              "      <th></th>\n",
              "      <th>Unnamed: 0</th>\n",
              "      <th>Unnamed: 1</th>\n",
              "      <th>Unnamed: 2</th>\n",
              "      <th>Unnamed: 3</th>\n",
              "      <th>Unnamed: 4</th>\n",
              "      <th>Unnamed: 5</th>\n",
              "      <th>Unnamed: 6</th>\n",
              "      <th>Unnamed: 7</th>\n",
              "      <th>de síntomas</th>\n",
              "      <th>Unnamed: 8</th>\n",
              "      <th>PCR en tiempo real</th>\n",
              "      <th>Unnamed: 9</th>\n",
              "      <th>Unnamed: 10</th>\n",
              "      <th>Unnamed: 11</th>\n",
              "      <th>México</th>\n",
              "      <th>Unnamed: 12</th>\n",
              "    </tr>\n",
              "  </thead>\n",
              "  <tbody>\n",
              "    <tr>\n",
              "      <th>0</th>\n",
              "      <td>NaN</td>\n",
              "      <td>NaN</td>\n",
              "      <td>NaN</td>\n",
              "      <td>NaN</td>\n",
              "      <td>NaN</td>\n",
              "      <td>PCR en tiempo real</td>\n",
              "      <td>México</td>\n",
              "      <td>NaN</td>\n",
              "      <td>NaN</td>\n",
              "      <td>NaN</td>\n",
              "      <td>NaN</td>\n",
              "      <td>NaN</td>\n",
              "      <td>NaN</td>\n",
              "      <td>NaN</td>\n",
              "      <td>NaN</td>\n",
              "      <td>NaN</td>\n",
              "    </tr>\n",
              "    <tr>\n",
              "      <th>1</th>\n",
              "      <td>1.0</td>\n",
              "      <td>BAJA CALIFORNIA</td>\n",
              "      <td>M</td>\n",
              "      <td>56.0</td>\n",
              "      <td>13/03/2020</td>\n",
              "      <td>Sospechoso</td>\n",
              "      <td>Contacto</td>\n",
              "      <td>05/03/2020</td>\n",
              "      <td>NaN</td>\n",
              "      <td>NaN</td>\n",
              "      <td>NaN</td>\n",
              "      <td>NaN</td>\n",
              "      <td>NaN</td>\n",
              "      <td>NaN</td>\n",
              "      <td>NaN</td>\n",
              "      <td>NaN</td>\n",
              "    </tr>\n",
              "    <tr>\n",
              "      <th>2</th>\n",
              "      <td>2.0</td>\n",
              "      <td>SAN LUIS POTOSÍ</td>\n",
              "      <td>F</td>\n",
              "      <td>22.0</td>\n",
              "      <td>11/03/2020</td>\n",
              "      <td>Sospechoso</td>\n",
              "      <td>España</td>\n",
              "      <td>06/03/2020</td>\n",
              "      <td>NaN</td>\n",
              "      <td>NaN</td>\n",
              "      <td>NaN</td>\n",
              "      <td>NaN</td>\n",
              "      <td>NaN</td>\n",
              "      <td>NaN</td>\n",
              "      <td>NaN</td>\n",
              "      <td>NaN</td>\n",
              "    </tr>\n",
              "    <tr>\n",
              "      <th>3</th>\n",
              "      <td>3.0</td>\n",
              "      <td>CIUDAD DE MÉXICO</td>\n",
              "      <td>F</td>\n",
              "      <td>26.0</td>\n",
              "      <td>13/03/2020</td>\n",
              "      <td>Sospechoso</td>\n",
              "      <td>España</td>\n",
              "      <td>13/03/2020</td>\n",
              "      <td>NaN</td>\n",
              "      <td>NaN</td>\n",
              "      <td>NaN</td>\n",
              "      <td>NaN</td>\n",
              "      <td>NaN</td>\n",
              "      <td>NaN</td>\n",
              "      <td>NaN</td>\n",
              "      <td>NaN</td>\n",
              "    </tr>\n",
              "    <tr>\n",
              "      <th>4</th>\n",
              "      <td>4.0</td>\n",
              "      <td>MÉXICO</td>\n",
              "      <td>M</td>\n",
              "      <td>23.0</td>\n",
              "      <td>03/03/2020</td>\n",
              "      <td>Sospechoso</td>\n",
              "      <td>España</td>\n",
              "      <td>02/03/2020</td>\n",
              "      <td>NaN</td>\n",
              "      <td>NaN</td>\n",
              "      <td>NaN</td>\n",
              "      <td>NaN</td>\n",
              "      <td>NaN</td>\n",
              "      <td>NaN</td>\n",
              "      <td>NaN</td>\n",
              "      <td>NaN</td>\n",
              "    </tr>\n",
              "  </tbody>\n",
              "</table>\n",
              "</div>"
            ],
            "text/plain": [
              "   Unnamed: 0        Unnamed: 1 Unnamed: 2  ...  Unnamed: 11 México Unnamed: 12\n",
              "0         NaN               NaN        NaN  ...          NaN    NaN         NaN\n",
              "1         1.0   BAJA CALIFORNIA          M  ...          NaN    NaN         NaN\n",
              "2         2.0   SAN LUIS POTOSÍ          F  ...          NaN    NaN         NaN\n",
              "3         3.0  CIUDAD DE MÉXICO          F  ...          NaN    NaN         NaN\n",
              "4         4.0            MÉXICO          M  ...          NaN    NaN         NaN\n",
              "\n",
              "[5 rows x 16 columns]"
            ]
          },
          "metadata": {
            "tags": []
          },
          "execution_count": 153
        }
      ]
    },
    {
      "cell_type": "code",
      "metadata": {
        "id": "OvTP9gLUoTuz",
        "colab_type": "code",
        "colab": {
          "base_uri": "https://localhost:8080/",
          "height": 122
        },
        "outputId": "0382a02e-7b45-460f-eeb0-4a224880595b"
      },
      "source": [
        "# drop the first row with non usable data\n",
        "df0 = df[0].iloc[1:] \n",
        "\n",
        "# Rename the columns\n",
        "newcols = {\n",
        "    'Unnamed: 0': 'No de caso', \n",
        "    'Unnamed: 1': 'Estado', \n",
        "    'Unnamed: 2': 'Sexo',\n",
        "    'Unnamed: 3': 'Edad',\n",
        "    'Unnamed: 4': 'Fecha de Inicio de síntomas',\n",
        "    'Unnamed: 5': 'Identificación de COVID-19 por RTPCR en tiempo real',\n",
        "    'Unnamed: 6': 'Procedencia',\n",
        "    'Unnamed: 7': 'Fecha de llegada a México'\n",
        "}\n",
        "\n",
        "# Throws a warning in colab, unfortunatly I'm still not proficient with python...\n",
        "df0.rename(columns=newcols, inplace=True)"
      ],
      "execution_count": 121,
      "outputs": [
        {
          "output_type": "stream",
          "text": [
            "/usr/local/lib/python3.6/dist-packages/pandas/core/frame.py:4238: SettingWithCopyWarning: \n",
            "A value is trying to be set on a copy of a slice from a DataFrame\n",
            "\n",
            "See the caveats in the documentation: http://pandas.pydata.org/pandas-docs/stable/user_guide/indexing.html#returning-a-view-versus-a-copy\n",
            "  return super().rename(**kwargs)\n"
          ],
          "name": "stderr"
        }
      ]
    },
    {
      "cell_type": "code",
      "metadata": {
        "id": "l18ToVHdxSU4",
        "colab_type": "code",
        "colab": {}
      },
      "source": [
        "# Remove the extra columns:\n",
        "columns = ['de síntomas', \n",
        "           'PCR en tiempo real', \n",
        "           'Unnamed: 8',\n",
        "           'Unnamed: 9', \n",
        "           'Unnamed: 10', \n",
        "           'Unnamed: 11', \n",
        "           'México', \n",
        "           'Unnamed: 12']\n",
        "df0 = df1.drop(labels=columns, axis=1)"
      ],
      "execution_count": 0,
      "outputs": []
    },
    {
      "cell_type": "code",
      "metadata": {
        "id": "sYZ95IK2pOoo",
        "colab_type": "code",
        "colab": {
          "base_uri": "https://localhost:8080/",
          "height": 289
        },
        "outputId": "e7a00244-be99-4c8c-afe6-27d822be1fb3"
      },
      "source": [
        "df0.head()"
      ],
      "execution_count": 160,
      "outputs": [
        {
          "output_type": "execute_result",
          "data": {
            "text/html": [
              "<div>\n",
              "<style scoped>\n",
              "    .dataframe tbody tr th:only-of-type {\n",
              "        vertical-align: middle;\n",
              "    }\n",
              "\n",
              "    .dataframe tbody tr th {\n",
              "        vertical-align: top;\n",
              "    }\n",
              "\n",
              "    .dataframe thead th {\n",
              "        text-align: right;\n",
              "    }\n",
              "</style>\n",
              "<table border=\"1\" class=\"dataframe\">\n",
              "  <thead>\n",
              "    <tr style=\"text-align: right;\">\n",
              "      <th></th>\n",
              "      <th>No de caso</th>\n",
              "      <th>Estado</th>\n",
              "      <th>Sexo</th>\n",
              "      <th>Edad</th>\n",
              "      <th>Fecha de Inicio de síntomas</th>\n",
              "      <th>Identificación de COVID-19 por RTPCR en tiempo real</th>\n",
              "      <th>Procedencia</th>\n",
              "      <th>Fecha de llegada a México</th>\n",
              "    </tr>\n",
              "  </thead>\n",
              "  <tbody>\n",
              "    <tr>\n",
              "      <th>1</th>\n",
              "      <td>1.0</td>\n",
              "      <td>BAJA CALIFORNIA</td>\n",
              "      <td>M</td>\n",
              "      <td>56.0</td>\n",
              "      <td>13/03/2020</td>\n",
              "      <td>Sospechoso</td>\n",
              "      <td>Contacto</td>\n",
              "      <td>05/03/2020</td>\n",
              "    </tr>\n",
              "    <tr>\n",
              "      <th>2</th>\n",
              "      <td>2.0</td>\n",
              "      <td>SAN LUIS POTOSÍ</td>\n",
              "      <td>F</td>\n",
              "      <td>22.0</td>\n",
              "      <td>11/03/2020</td>\n",
              "      <td>Sospechoso</td>\n",
              "      <td>España</td>\n",
              "      <td>06/03/2020</td>\n",
              "    </tr>\n",
              "    <tr>\n",
              "      <th>3</th>\n",
              "      <td>3.0</td>\n",
              "      <td>CIUDAD DE MÉXICO</td>\n",
              "      <td>F</td>\n",
              "      <td>26.0</td>\n",
              "      <td>13/03/2020</td>\n",
              "      <td>Sospechoso</td>\n",
              "      <td>España</td>\n",
              "      <td>13/03/2020</td>\n",
              "    </tr>\n",
              "    <tr>\n",
              "      <th>4</th>\n",
              "      <td>4.0</td>\n",
              "      <td>MÉXICO</td>\n",
              "      <td>M</td>\n",
              "      <td>23.0</td>\n",
              "      <td>03/03/2020</td>\n",
              "      <td>Sospechoso</td>\n",
              "      <td>España</td>\n",
              "      <td>02/03/2020</td>\n",
              "    </tr>\n",
              "    <tr>\n",
              "      <th>5</th>\n",
              "      <td>5.0</td>\n",
              "      <td>COAHUILA</td>\n",
              "      <td>M</td>\n",
              "      <td>21.0</td>\n",
              "      <td>10/03/2020</td>\n",
              "      <td>Sospechoso</td>\n",
              "      <td>España</td>\n",
              "      <td>13/03/2020</td>\n",
              "    </tr>\n",
              "  </tbody>\n",
              "</table>\n",
              "</div>"
            ],
            "text/plain": [
              "   No de caso            Estado  ... Procedencia  Fecha de llegada a México\n",
              "1         1.0   BAJA CALIFORNIA  ...    Contacto                 05/03/2020\n",
              "2         2.0   SAN LUIS POTOSÍ  ...      España                 06/03/2020\n",
              "3         3.0  CIUDAD DE MÉXICO  ...      España                 13/03/2020\n",
              "4         4.0            MÉXICO  ...      España                 02/03/2020\n",
              "5         5.0          COAHUILA  ...      España                 13/03/2020\n",
              "\n",
              "[5 rows x 8 columns]"
            ]
          },
          "metadata": {
            "tags": []
          },
          "execution_count": 160
        }
      ]
    },
    {
      "cell_type": "markdown",
      "metadata": {
        "id": "4ThC72MT7Amf",
        "colab_type": "text"
      },
      "source": [
        "## Concatenate with the other data frames"
      ]
    },
    {
      "cell_type": "code",
      "metadata": {
        "id": "EwMK_Ub4CgxM",
        "colab_type": "code",
        "colab": {
          "base_uri": "https://localhost:8080/",
          "height": 34
        },
        "outputId": "8679a26b-ac31-46dc-ddfd-e21cfa73f4b9"
      },
      "source": [
        "# Data frame 2 should have all pages...\n",
        "len(df2)"
      ],
      "execution_count": 157,
      "outputs": [
        {
          "output_type": "execute_result",
          "data": {
            "text/plain": [
              "6"
            ]
          },
          "metadata": {
            "tags": []
          },
          "execution_count": 157
        }
      ]
    },
    {
      "cell_type": "code",
      "metadata": {
        "id": "kVcQYegu68gK",
        "colab_type": "code",
        "colab": {
          "base_uri": "https://localhost:8080/",
          "height": 204
        },
        "outputId": "e98170c0-8499-491a-cce4-c8c21e285ee1"
      },
      "source": [
        "## Remove page 1 since we already have it\n",
        "df2 = df2[1:]\n",
        "df2[0].head()"
      ],
      "execution_count": 158,
      "outputs": [
        {
          "output_type": "execute_result",
          "data": {
            "text/html": [
              "<div>\n",
              "<style scoped>\n",
              "    .dataframe tbody tr th:only-of-type {\n",
              "        vertical-align: middle;\n",
              "    }\n",
              "\n",
              "    .dataframe tbody tr th {\n",
              "        vertical-align: top;\n",
              "    }\n",
              "\n",
              "    .dataframe thead th {\n",
              "        text-align: right;\n",
              "    }\n",
              "</style>\n",
              "<table border=\"1\" class=\"dataframe\">\n",
              "  <thead>\n",
              "    <tr style=\"text-align: right;\">\n",
              "      <th></th>\n",
              "      <th>51</th>\n",
              "      <th>CIUDAD DE MÉXICO</th>\n",
              "      <th>F</th>\n",
              "      <th>76</th>\n",
              "      <th>15/03/2020</th>\n",
              "      <th>Sospechoso</th>\n",
              "      <th>Contacto</th>\n",
              "      <th>NA</th>\n",
              "    </tr>\n",
              "  </thead>\n",
              "  <tbody>\n",
              "    <tr>\n",
              "      <th>0</th>\n",
              "      <td>52</td>\n",
              "      <td>QUERETARO</td>\n",
              "      <td>M</td>\n",
              "      <td>25</td>\n",
              "      <td>08/03/2020</td>\n",
              "      <td>Sospechoso</td>\n",
              "      <td>España</td>\n",
              "      <td>16/03/2020</td>\n",
              "    </tr>\n",
              "    <tr>\n",
              "      <th>1</th>\n",
              "      <td>53</td>\n",
              "      <td>GUERRERO</td>\n",
              "      <td>M</td>\n",
              "      <td>29</td>\n",
              "      <td>15/03/2020</td>\n",
              "      <td>Sospechoso</td>\n",
              "      <td>Contacto</td>\n",
              "      <td>NA</td>\n",
              "    </tr>\n",
              "    <tr>\n",
              "      <th>2</th>\n",
              "      <td>54</td>\n",
              "      <td>HIDALGO</td>\n",
              "      <td>F</td>\n",
              "      <td>72</td>\n",
              "      <td>14/03/2020</td>\n",
              "      <td>Sospechoso</td>\n",
              "      <td>Estados Unidos</td>\n",
              "      <td>14/03/2020</td>\n",
              "    </tr>\n",
              "    <tr>\n",
              "      <th>3</th>\n",
              "      <td>55</td>\n",
              "      <td>SONORA</td>\n",
              "      <td>M</td>\n",
              "      <td>44</td>\n",
              "      <td>12/03/2020</td>\n",
              "      <td>Sospechoso</td>\n",
              "      <td>Italia</td>\n",
              "      <td>10/03/2020</td>\n",
              "    </tr>\n",
              "    <tr>\n",
              "      <th>4</th>\n",
              "      <td>56</td>\n",
              "      <td>MÉXICO</td>\n",
              "      <td>F</td>\n",
              "      <td>4</td>\n",
              "      <td>04/03/2020</td>\n",
              "      <td>Sospechoso</td>\n",
              "      <td>Estados Unidos</td>\n",
              "      <td>07/03/2020</td>\n",
              "    </tr>\n",
              "  </tbody>\n",
              "</table>\n",
              "</div>"
            ],
            "text/plain": [
              "   51 CIUDAD DE MÉXICO  F  ...  Sospechoso        Contacto          NA\n",
              "0  52        QUERETARO  M  ...  Sospechoso          España  16/03/2020\n",
              "1  53         GUERRERO  M  ...  Sospechoso        Contacto          NA\n",
              "2  54          HIDALGO  F  ...  Sospechoso  Estados Unidos  14/03/2020\n",
              "3  55           SONORA  M  ...  Sospechoso          Italia  10/03/2020\n",
              "4  56           MÉXICO  F  ...  Sospechoso  Estados Unidos  07/03/2020\n",
              "\n",
              "[5 rows x 8 columns]"
            ]
          },
          "metadata": {
            "tags": []
          },
          "execution_count": 158
        }
      ]
    },
    {
      "cell_type": "code",
      "metadata": {
        "id": "WMROw0uF832N",
        "colab_type": "code",
        "colab": {}
      },
      "source": [
        "# Add column headers to data frames\n",
        "cols = ['No de caso', \n",
        "    'Estado', \n",
        "    'Sexo',\n",
        "    'Edad',\n",
        "    'Fecha de Inicio de síntomas',\n",
        "    'Identificación de COVID-19 por RTPCR en tiempo real',\n",
        "    'Procedencia',\n",
        "    'Fecha de llegada a México'\n",
        "]\n",
        "\n",
        "# Initialize list with the cleaned df 0 \n",
        "dataFrames = [df0]\n",
        "\n",
        "# Iterate through the dataframes in df2 and add the column headers\n",
        "# TODO: seems like we need to add the header value too\n",
        "for dfx in df2:\n",
        "    dataframe = pd.DataFrame(dfx.values, columns=cols)\n",
        "    dataFrames.append(dataframe)\n"
      ],
      "execution_count": 0,
      "outputs": []
    },
    {
      "cell_type": "code",
      "metadata": {
        "id": "-zPmguN1-UrC",
        "colab_type": "code",
        "colab": {
          "base_uri": "https://localhost:8080/",
          "height": 572
        },
        "outputId": "84eb9413-4261-4aa9-d05a-8eacf2517eb8"
      },
      "source": [
        "# Concatenate the cleaned data frames\n",
        "# TODO: adjust the index column :/\n",
        "data = pd.concat(dataFrames)\n",
        "data"
      ],
      "execution_count": 179,
      "outputs": [
        {
          "output_type": "execute_result",
          "data": {
            "text/html": [
              "<div>\n",
              "<style scoped>\n",
              "    .dataframe tbody tr th:only-of-type {\n",
              "        vertical-align: middle;\n",
              "    }\n",
              "\n",
              "    .dataframe tbody tr th {\n",
              "        vertical-align: top;\n",
              "    }\n",
              "\n",
              "    .dataframe thead th {\n",
              "        text-align: right;\n",
              "    }\n",
              "</style>\n",
              "<table border=\"1\" class=\"dataframe\">\n",
              "  <thead>\n",
              "    <tr style=\"text-align: right;\">\n",
              "      <th></th>\n",
              "      <th>No de caso</th>\n",
              "      <th>Estado</th>\n",
              "      <th>Sexo</th>\n",
              "      <th>Edad</th>\n",
              "      <th>Fecha de Inicio de síntomas</th>\n",
              "      <th>Identificación de COVID-19 por RTPCR en tiempo real</th>\n",
              "      <th>Procedencia</th>\n",
              "      <th>Fecha de llegada a México</th>\n",
              "    </tr>\n",
              "  </thead>\n",
              "  <tbody>\n",
              "    <tr>\n",
              "      <th>1</th>\n",
              "      <td>1</td>\n",
              "      <td>BAJA CALIFORNIA</td>\n",
              "      <td>M</td>\n",
              "      <td>56</td>\n",
              "      <td>13/03/2020</td>\n",
              "      <td>Sospechoso</td>\n",
              "      <td>Contacto</td>\n",
              "      <td>05/03/2020</td>\n",
              "    </tr>\n",
              "    <tr>\n",
              "      <th>2</th>\n",
              "      <td>2</td>\n",
              "      <td>SAN LUIS POTOSÍ</td>\n",
              "      <td>F</td>\n",
              "      <td>22</td>\n",
              "      <td>11/03/2020</td>\n",
              "      <td>Sospechoso</td>\n",
              "      <td>España</td>\n",
              "      <td>06/03/2020</td>\n",
              "    </tr>\n",
              "    <tr>\n",
              "      <th>3</th>\n",
              "      <td>3</td>\n",
              "      <td>CIUDAD DE MÉXICO</td>\n",
              "      <td>F</td>\n",
              "      <td>26</td>\n",
              "      <td>13/03/2020</td>\n",
              "      <td>Sospechoso</td>\n",
              "      <td>España</td>\n",
              "      <td>13/03/2020</td>\n",
              "    </tr>\n",
              "    <tr>\n",
              "      <th>4</th>\n",
              "      <td>4</td>\n",
              "      <td>MÉXICO</td>\n",
              "      <td>M</td>\n",
              "      <td>23</td>\n",
              "      <td>03/03/2020</td>\n",
              "      <td>Sospechoso</td>\n",
              "      <td>España</td>\n",
              "      <td>02/03/2020</td>\n",
              "    </tr>\n",
              "    <tr>\n",
              "      <th>5</th>\n",
              "      <td>5</td>\n",
              "      <td>COAHUILA</td>\n",
              "      <td>M</td>\n",
              "      <td>21</td>\n",
              "      <td>10/03/2020</td>\n",
              "      <td>Sospechoso</td>\n",
              "      <td>España</td>\n",
              "      <td>13/03/2020</td>\n",
              "    </tr>\n",
              "    <tr>\n",
              "      <th>...</th>\n",
              "      <td>...</td>\n",
              "      <td>...</td>\n",
              "      <td>...</td>\n",
              "      <td>...</td>\n",
              "      <td>...</td>\n",
              "      <td>...</td>\n",
              "      <td>...</td>\n",
              "      <td>...</td>\n",
              "    </tr>\n",
              "    <tr>\n",
              "      <th>34</th>\n",
              "      <td>310</td>\n",
              "      <td>MÉXICO</td>\n",
              "      <td>M</td>\n",
              "      <td>33</td>\n",
              "      <td>10/03/2020</td>\n",
              "      <td>Sospechoso</td>\n",
              "      <td>Estados Unidos</td>\n",
              "      <td>10/03/2020</td>\n",
              "    </tr>\n",
              "    <tr>\n",
              "      <th>35</th>\n",
              "      <td>311</td>\n",
              "      <td>CIUDAD DE MÉXICO</td>\n",
              "      <td>M</td>\n",
              "      <td>40</td>\n",
              "      <td>09/03/2020</td>\n",
              "      <td>Sospechoso</td>\n",
              "      <td>Italia</td>\n",
              "      <td>08/03/2020</td>\n",
              "    </tr>\n",
              "    <tr>\n",
              "      <th>36</th>\n",
              "      <td>312</td>\n",
              "      <td>GUANAJUATO</td>\n",
              "      <td>M</td>\n",
              "      <td>48</td>\n",
              "      <td>15/03/2020</td>\n",
              "      <td>Sospechoso</td>\n",
              "      <td>España</td>\n",
              "      <td>10/03/2020</td>\n",
              "    </tr>\n",
              "    <tr>\n",
              "      <th>37</th>\n",
              "      <td>313</td>\n",
              "      <td>MÉXICO</td>\n",
              "      <td>M</td>\n",
              "      <td>15</td>\n",
              "      <td>08/03/2020</td>\n",
              "      <td>Sospechoso</td>\n",
              "      <td>Estados Unidos</td>\n",
              "      <td>08/03/2020</td>\n",
              "    </tr>\n",
              "    <tr>\n",
              "      <th>38</th>\n",
              "      <td>314</td>\n",
              "      <td>MÉXICO</td>\n",
              "      <td>M</td>\n",
              "      <td>17</td>\n",
              "      <td>10/03/2020</td>\n",
              "      <td>Sospechoso</td>\n",
              "      <td>Estados Unidos</td>\n",
              "      <td>08/03/2020</td>\n",
              "    </tr>\n",
              "  </tbody>\n",
              "</table>\n",
              "<p>304 rows × 8 columns</p>\n",
              "</div>"
            ],
            "text/plain": [
              "   No de caso            Estado  ...     Procedencia Fecha de llegada a México\n",
              "1           1   BAJA CALIFORNIA  ...        Contacto                05/03/2020\n",
              "2           2   SAN LUIS POTOSÍ  ...          España                06/03/2020\n",
              "3           3  CIUDAD DE MÉXICO  ...          España                13/03/2020\n",
              "4           4            MÉXICO  ...          España                02/03/2020\n",
              "5           5          COAHUILA  ...          España                13/03/2020\n",
              "..        ...               ...  ...             ...                       ...\n",
              "34        310            MÉXICO  ...  Estados Unidos                10/03/2020\n",
              "35        311  CIUDAD DE MÉXICO  ...          Italia                08/03/2020\n",
              "36        312        GUANAJUATO  ...          España                10/03/2020\n",
              "37        313            MÉXICO  ...  Estados Unidos                08/03/2020\n",
              "38        314            MÉXICO  ...  Estados Unidos                08/03/2020\n",
              "\n",
              "[304 rows x 8 columns]"
            ]
          },
          "metadata": {
            "tags": []
          },
          "execution_count": 179
        }
      ]
    },
    {
      "cell_type": "markdown",
      "metadata": {
        "id": "JgTnxlbp-UFZ",
        "colab_type": "text"
      },
      "source": [
        "## Export the data set:"
      ]
    },
    {
      "cell_type": "code",
      "metadata": {
        "id": "uiF6mTpJ8XBM",
        "colab_type": "code",
        "colab": {}
      },
      "source": [
        "today = date.today()\n",
        "d1 = today.strftime(\"%Y-%m-%d\")\n",
        "filename = \"sospechosos-\"+ d1+\".csv\"\n",
        "data.to_csv(filename)"
      ],
      "execution_count": 0,
      "outputs": []
    }
  ]
}