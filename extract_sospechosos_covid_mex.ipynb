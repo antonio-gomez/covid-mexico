{
  "nbformat": 4,
  "nbformat_minor": 0,
  "metadata": {
    "colab": {
      "name": "extract-sospechosos-covid-mex.ipynb",
      "provenance": [],
      "collapsed_sections": [],
      "toc_visible": true
    },
    "kernelspec": {
      "name": "python3",
      "display_name": "Python 3"
    }
  },
  "cells": [
    {
      "cell_type": "code",
      "metadata": {
        "id": "Fas5btkjb9SC",
        "colab_type": "code",
        "outputId": "dfc0656a-f925-4375-e0d1-0c5cd4cc2c94",
        "colab": {
          "base_uri": "https://localhost:8080/",
          "height": 156
        }
      },
      "source": [
        "#Install tabula python wrapper\n",
        "!pip install tabula-py"
      ],
      "execution_count": 1,
      "outputs": [
        {
          "output_type": "stream",
          "text": [
            "Requirement already satisfied: tabula-py in /usr/local/lib/python3.6/dist-packages (2.1.0)\n",
            "Requirement already satisfied: numpy in /usr/local/lib/python3.6/dist-packages (from tabula-py) (1.18.2)\n",
            "Requirement already satisfied: pandas>=0.25.3 in /usr/local/lib/python3.6/dist-packages (from tabula-py) (0.25.3)\n",
            "Requirement already satisfied: distro in /usr/local/lib/python3.6/dist-packages (from tabula-py) (1.4.0)\n",
            "Requirement already satisfied: pytz>=2017.2 in /usr/local/lib/python3.6/dist-packages (from pandas>=0.25.3->tabula-py) (2018.9)\n",
            "Requirement already satisfied: python-dateutil>=2.6.1 in /usr/local/lib/python3.6/dist-packages (from pandas>=0.25.3->tabula-py) (2.8.1)\n",
            "Requirement already satisfied: six>=1.5 in /usr/local/lib/python3.6/dist-packages (from python-dateutil>=2.6.1->pandas>=0.25.3->tabula-py) (1.12.0)\n"
          ],
          "name": "stdout"
        }
      ]
    },
    {
      "cell_type": "code",
      "metadata": {
        "id": "wJyU62pJc-LB",
        "colab_type": "code",
        "colab": {}
      },
      "source": [
        "from tabula import read_pdf\n",
        "import pandas as pd\n",
        "from datetime import date"
      ],
      "execution_count": 0,
      "outputs": []
    },
    {
      "cell_type": "code",
      "metadata": {
        "id": "9pMw3Y_u_lit",
        "colab_type": "code",
        "colab": {}
      },
      "source": [
        "# Use the url from www.gob.mx\n",
        "# TODO: check how their cms works, seems like every day they upload 4 pdfs... \n",
        "# check file/<number>/ and date at the end\n",
        "\n",
        "sospechosos =\"https://www.gob.mx/cms/uploads/attachment/file/542353/Tabla_casos_sospechosos_COVID-19_2020.03.19.pdf\""
      ],
      "execution_count": 0,
      "outputs": []
    },
    {
      "cell_type": "code",
      "metadata": {
        "id": "FMVBmy0_dICg",
        "colab_type": "code",
        "colab": {}
      },
      "source": [
        "# specify the area for page 1 since the column names are not being picked up by tabula\n",
        "# A primer on PDF coordinate system to pass values to area param\n",
        "# https://www.leadtools.com/help/leadtools/v19/dh/to/pdf-topics-pdfcoordinatesystem.html\n",
        "df = read_pdf(sospechosos, area=[99, 0, 792, 792], pages=\"1\")"
      ],
      "execution_count": 0,
      "outputs": []
    },
    {
      "cell_type": "code",
      "metadata": {
        "id": "tvrgV7jg4Stc",
        "colab_type": "code",
        "colab": {}
      },
      "source": [
        "# Get the rest of the pages in a second data frame \n",
        "# TODO: seems like is not reading the first row, maybe because it doesnt have the upper border\n",
        "df2 = read_pdf(sospechosos, pages=\"all\")"
      ],
      "execution_count": 0,
      "outputs": []
    },
    {
      "cell_type": "markdown",
      "metadata": {
        "id": "68EJhvwIobVm",
        "colab_type": "text"
      },
      "source": [
        "# Cleaning the first data frame"
      ]
    },
    {
      "cell_type": "code",
      "metadata": {
        "id": "H_Gqpv4bdQQA",
        "colab_type": "code",
        "outputId": "448ace11-a760-4873-fc28-6841a424155e",
        "colab": {
          "base_uri": "https://localhost:8080/",
          "height": 255
        }
      },
      "source": [
        "# Tabula outputs unformatted headers...\n",
        "df[0].head()"
      ],
      "execution_count": 6,
      "outputs": [
        {
          "output_type": "execute_result",
          "data": {
            "text/html": [
              "<div>\n",
              "<style scoped>\n",
              "    .dataframe tbody tr th:only-of-type {\n",
              "        vertical-align: middle;\n",
              "    }\n",
              "\n",
              "    .dataframe tbody tr th {\n",
              "        vertical-align: top;\n",
              "    }\n",
              "\n",
              "    .dataframe thead th {\n",
              "        text-align: right;\n",
              "    }\n",
              "</style>\n",
              "<table border=\"1\" class=\"dataframe\">\n",
              "  <thead>\n",
              "    <tr style=\"text-align: right;\">\n",
              "      <th></th>\n",
              "      <th>Unnamed: 0</th>\n",
              "      <th>Unnamed: 1</th>\n",
              "      <th>Unnamed: 2</th>\n",
              "      <th>Unnamed: 3</th>\n",
              "      <th>Unnamed: 4</th>\n",
              "      <th>Unnamed: 5</th>\n",
              "      <th>Unnamed: 6</th>\n",
              "      <th>Unnamed: 7</th>\n",
              "      <th>Unnamed: 8</th>\n",
              "    </tr>\n",
              "  </thead>\n",
              "  <tbody>\n",
              "    <tr>\n",
              "      <th>0</th>\n",
              "      <td>1</td>\n",
              "      <td>SAN LUIS POTOSÍ</td>\n",
              "      <td>F</td>\n",
              "      <td>22</td>\n",
              "      <td>11/03/2020</td>\n",
              "      <td>Sospechoso</td>\n",
              "      <td>España</td>\n",
              "      <td>06/03/2020</td>\n",
              "      <td>NaN</td>\n",
              "    </tr>\n",
              "    <tr>\n",
              "      <th>1</th>\n",
              "      <td>2</td>\n",
              "      <td>CIUDAD DE MÉXICO</td>\n",
              "      <td>F</td>\n",
              "      <td>26</td>\n",
              "      <td>13/03/2020</td>\n",
              "      <td>Sospechoso</td>\n",
              "      <td>España</td>\n",
              "      <td>13/03/2020</td>\n",
              "      <td>NaN</td>\n",
              "    </tr>\n",
              "    <tr>\n",
              "      <th>2</th>\n",
              "      <td>3</td>\n",
              "      <td>MÉXICO</td>\n",
              "      <td>M</td>\n",
              "      <td>23</td>\n",
              "      <td>03/03/2020</td>\n",
              "      <td>Sospechoso</td>\n",
              "      <td>España</td>\n",
              "      <td>02/03/2020</td>\n",
              "      <td>NaN</td>\n",
              "    </tr>\n",
              "    <tr>\n",
              "      <th>3</th>\n",
              "      <td>4</td>\n",
              "      <td>MÉXICO</td>\n",
              "      <td>M</td>\n",
              "      <td>34</td>\n",
              "      <td>16/02/2020</td>\n",
              "      <td>Sospechoso</td>\n",
              "      <td>Italia</td>\n",
              "      <td>29/02/2020</td>\n",
              "      <td>NaN</td>\n",
              "    </tr>\n",
              "    <tr>\n",
              "      <th>4</th>\n",
              "      <td>5</td>\n",
              "      <td>CIUDAD DE MÉXICO</td>\n",
              "      <td>F</td>\n",
              "      <td>30</td>\n",
              "      <td>07/03/2020</td>\n",
              "      <td>Sospechoso</td>\n",
              "      <td>España</td>\n",
              "      <td>28/02/2020</td>\n",
              "      <td>NaN</td>\n",
              "    </tr>\n",
              "  </tbody>\n",
              "</table>\n",
              "</div>"
            ],
            "text/plain": [
              "   Unnamed: 0        Unnamed: 1 Unnamed: 2  ...  Unnamed: 6  Unnamed: 7 Unnamed: 8\n",
              "0           1   SAN LUIS POTOSÍ          F  ...      España  06/03/2020        NaN\n",
              "1           2  CIUDAD DE MÉXICO          F  ...      España  13/03/2020        NaN\n",
              "2           3            MÉXICO          M  ...      España  02/03/2020        NaN\n",
              "3           4            MÉXICO          M  ...      Italia  29/02/2020        NaN\n",
              "4           5  CIUDAD DE MÉXICO          F  ...      España  28/02/2020        NaN\n",
              "\n",
              "[5 rows x 9 columns]"
            ]
          },
          "metadata": {
            "tags": []
          },
          "execution_count": 6
        }
      ]
    },
    {
      "cell_type": "code",
      "metadata": {
        "id": "OvTP9gLUoTuz",
        "colab_type": "code",
        "colab": {}
      },
      "source": [
        "# drop the first row with non usable data\n",
        "df0 = df[0]\n",
        "\n",
        "# Rename the columns\n",
        "newcols = {\n",
        "    'Unnamed: 0': 'No de caso', \n",
        "    'Unnamed: 1': 'Estado', \n",
        "    'Unnamed: 2': 'Sexo',\n",
        "    'Unnamed: 3': 'Edad',\n",
        "    'Unnamed: 4': 'Fecha de Inicio de síntomas',\n",
        "    'Unnamed: 5': 'Identificación de COVID-19 por RTPCR en tiempo real',\n",
        "    'Unnamed: 6': 'Procedencia',\n",
        "    'Unnamed: 7': 'Fecha de llegada a México'\n",
        "}\n",
        "\n",
        "# Throws a warning in colab, unfortunatly I'm still not proficient with python...\n",
        "df0.rename(columns=newcols, inplace=True)"
      ],
      "execution_count": 0,
      "outputs": []
    },
    {
      "cell_type": "code",
      "metadata": {
        "id": "3dED62lKzPDw",
        "colab_type": "code",
        "outputId": "1a04ae85-164c-4fb3-afc8-7cec2c1efeff",
        "colab": {
          "base_uri": "https://localhost:8080/",
          "height": 323
        }
      },
      "source": [
        "df0.head()"
      ],
      "execution_count": 8,
      "outputs": [
        {
          "output_type": "execute_result",
          "data": {
            "text/html": [
              "<div>\n",
              "<style scoped>\n",
              "    .dataframe tbody tr th:only-of-type {\n",
              "        vertical-align: middle;\n",
              "    }\n",
              "\n",
              "    .dataframe tbody tr th {\n",
              "        vertical-align: top;\n",
              "    }\n",
              "\n",
              "    .dataframe thead th {\n",
              "        text-align: right;\n",
              "    }\n",
              "</style>\n",
              "<table border=\"1\" class=\"dataframe\">\n",
              "  <thead>\n",
              "    <tr style=\"text-align: right;\">\n",
              "      <th></th>\n",
              "      <th>No de caso</th>\n",
              "      <th>Estado</th>\n",
              "      <th>Sexo</th>\n",
              "      <th>Edad</th>\n",
              "      <th>Fecha de Inicio de síntomas</th>\n",
              "      <th>Identificación de COVID-19 por RTPCR en tiempo real</th>\n",
              "      <th>Procedencia</th>\n",
              "      <th>Fecha de llegada a México</th>\n",
              "      <th>Unnamed: 8</th>\n",
              "    </tr>\n",
              "  </thead>\n",
              "  <tbody>\n",
              "    <tr>\n",
              "      <th>0</th>\n",
              "      <td>1</td>\n",
              "      <td>SAN LUIS POTOSÍ</td>\n",
              "      <td>F</td>\n",
              "      <td>22</td>\n",
              "      <td>11/03/2020</td>\n",
              "      <td>Sospechoso</td>\n",
              "      <td>España</td>\n",
              "      <td>06/03/2020</td>\n",
              "      <td>NaN</td>\n",
              "    </tr>\n",
              "    <tr>\n",
              "      <th>1</th>\n",
              "      <td>2</td>\n",
              "      <td>CIUDAD DE MÉXICO</td>\n",
              "      <td>F</td>\n",
              "      <td>26</td>\n",
              "      <td>13/03/2020</td>\n",
              "      <td>Sospechoso</td>\n",
              "      <td>España</td>\n",
              "      <td>13/03/2020</td>\n",
              "      <td>NaN</td>\n",
              "    </tr>\n",
              "    <tr>\n",
              "      <th>2</th>\n",
              "      <td>3</td>\n",
              "      <td>MÉXICO</td>\n",
              "      <td>M</td>\n",
              "      <td>23</td>\n",
              "      <td>03/03/2020</td>\n",
              "      <td>Sospechoso</td>\n",
              "      <td>España</td>\n",
              "      <td>02/03/2020</td>\n",
              "      <td>NaN</td>\n",
              "    </tr>\n",
              "    <tr>\n",
              "      <th>3</th>\n",
              "      <td>4</td>\n",
              "      <td>MÉXICO</td>\n",
              "      <td>M</td>\n",
              "      <td>34</td>\n",
              "      <td>16/02/2020</td>\n",
              "      <td>Sospechoso</td>\n",
              "      <td>Italia</td>\n",
              "      <td>29/02/2020</td>\n",
              "      <td>NaN</td>\n",
              "    </tr>\n",
              "    <tr>\n",
              "      <th>4</th>\n",
              "      <td>5</td>\n",
              "      <td>CIUDAD DE MÉXICO</td>\n",
              "      <td>F</td>\n",
              "      <td>30</td>\n",
              "      <td>07/03/2020</td>\n",
              "      <td>Sospechoso</td>\n",
              "      <td>España</td>\n",
              "      <td>28/02/2020</td>\n",
              "      <td>NaN</td>\n",
              "    </tr>\n",
              "  </tbody>\n",
              "</table>\n",
              "</div>"
            ],
            "text/plain": [
              "   No de caso            Estado  ... Fecha de llegada a México  Unnamed: 8\n",
              "0           1   SAN LUIS POTOSÍ  ...                06/03/2020         NaN\n",
              "1           2  CIUDAD DE MÉXICO  ...                13/03/2020         NaN\n",
              "2           3            MÉXICO  ...                02/03/2020         NaN\n",
              "3           4            MÉXICO  ...                29/02/2020         NaN\n",
              "4           5  CIUDAD DE MÉXICO  ...                28/02/2020         NaN\n",
              "\n",
              "[5 rows x 9 columns]"
            ]
          },
          "metadata": {
            "tags": []
          },
          "execution_count": 8
        }
      ]
    },
    {
      "cell_type": "code",
      "metadata": {
        "id": "l18ToVHdxSU4",
        "colab_type": "code",
        "colab": {}
      },
      "source": [
        "# Remove the extra columns:\n",
        "columns = ['Unnamed: 8']\n",
        "df0 = df0.drop(labels=columns, axis=1)"
      ],
      "execution_count": 0,
      "outputs": []
    },
    {
      "cell_type": "code",
      "metadata": {
        "id": "sYZ95IK2pOoo",
        "colab_type": "code",
        "outputId": "f6a475c4-890d-4be7-cac1-402c7f6de3f4",
        "colab": {
          "base_uri": "https://localhost:8080/",
          "height": 289
        }
      },
      "source": [
        "df0.head()"
      ],
      "execution_count": 10,
      "outputs": [
        {
          "output_type": "execute_result",
          "data": {
            "text/html": [
              "<div>\n",
              "<style scoped>\n",
              "    .dataframe tbody tr th:only-of-type {\n",
              "        vertical-align: middle;\n",
              "    }\n",
              "\n",
              "    .dataframe tbody tr th {\n",
              "        vertical-align: top;\n",
              "    }\n",
              "\n",
              "    .dataframe thead th {\n",
              "        text-align: right;\n",
              "    }\n",
              "</style>\n",
              "<table border=\"1\" class=\"dataframe\">\n",
              "  <thead>\n",
              "    <tr style=\"text-align: right;\">\n",
              "      <th></th>\n",
              "      <th>No de caso</th>\n",
              "      <th>Estado</th>\n",
              "      <th>Sexo</th>\n",
              "      <th>Edad</th>\n",
              "      <th>Fecha de Inicio de síntomas</th>\n",
              "      <th>Identificación de COVID-19 por RTPCR en tiempo real</th>\n",
              "      <th>Procedencia</th>\n",
              "      <th>Fecha de llegada a México</th>\n",
              "    </tr>\n",
              "  </thead>\n",
              "  <tbody>\n",
              "    <tr>\n",
              "      <th>0</th>\n",
              "      <td>1</td>\n",
              "      <td>SAN LUIS POTOSÍ</td>\n",
              "      <td>F</td>\n",
              "      <td>22</td>\n",
              "      <td>11/03/2020</td>\n",
              "      <td>Sospechoso</td>\n",
              "      <td>España</td>\n",
              "      <td>06/03/2020</td>\n",
              "    </tr>\n",
              "    <tr>\n",
              "      <th>1</th>\n",
              "      <td>2</td>\n",
              "      <td>CIUDAD DE MÉXICO</td>\n",
              "      <td>F</td>\n",
              "      <td>26</td>\n",
              "      <td>13/03/2020</td>\n",
              "      <td>Sospechoso</td>\n",
              "      <td>España</td>\n",
              "      <td>13/03/2020</td>\n",
              "    </tr>\n",
              "    <tr>\n",
              "      <th>2</th>\n",
              "      <td>3</td>\n",
              "      <td>MÉXICO</td>\n",
              "      <td>M</td>\n",
              "      <td>23</td>\n",
              "      <td>03/03/2020</td>\n",
              "      <td>Sospechoso</td>\n",
              "      <td>España</td>\n",
              "      <td>02/03/2020</td>\n",
              "    </tr>\n",
              "    <tr>\n",
              "      <th>3</th>\n",
              "      <td>4</td>\n",
              "      <td>MÉXICO</td>\n",
              "      <td>M</td>\n",
              "      <td>34</td>\n",
              "      <td>16/02/2020</td>\n",
              "      <td>Sospechoso</td>\n",
              "      <td>Italia</td>\n",
              "      <td>29/02/2020</td>\n",
              "    </tr>\n",
              "    <tr>\n",
              "      <th>4</th>\n",
              "      <td>5</td>\n",
              "      <td>CIUDAD DE MÉXICO</td>\n",
              "      <td>F</td>\n",
              "      <td>30</td>\n",
              "      <td>07/03/2020</td>\n",
              "      <td>Sospechoso</td>\n",
              "      <td>España</td>\n",
              "      <td>28/02/2020</td>\n",
              "    </tr>\n",
              "  </tbody>\n",
              "</table>\n",
              "</div>"
            ],
            "text/plain": [
              "   No de caso            Estado  ... Procedencia  Fecha de llegada a México\n",
              "0           1   SAN LUIS POTOSÍ  ...      España                 06/03/2020\n",
              "1           2  CIUDAD DE MÉXICO  ...      España                 13/03/2020\n",
              "2           3            MÉXICO  ...      España                 02/03/2020\n",
              "3           4            MÉXICO  ...      Italia                 29/02/2020\n",
              "4           5  CIUDAD DE MÉXICO  ...      España                 28/02/2020\n",
              "\n",
              "[5 rows x 8 columns]"
            ]
          },
          "metadata": {
            "tags": []
          },
          "execution_count": 10
        }
      ]
    },
    {
      "cell_type": "markdown",
      "metadata": {
        "id": "4ThC72MT7Amf",
        "colab_type": "text"
      },
      "source": [
        "## Concatenate with the other data frames"
      ]
    },
    {
      "cell_type": "code",
      "metadata": {
        "id": "EwMK_Ub4CgxM",
        "colab_type": "code",
        "outputId": "f6679bd4-564d-466a-fcbb-e26892b955d4",
        "colab": {
          "base_uri": "https://localhost:8080/",
          "height": 34
        }
      },
      "source": [
        "# Data frame 2 should have all pages...\n",
        "len(df2)"
      ],
      "execution_count": 11,
      "outputs": [
        {
          "output_type": "execute_result",
          "data": {
            "text/plain": [
              "9"
            ]
          },
          "metadata": {
            "tags": []
          },
          "execution_count": 11
        }
      ]
    },
    {
      "cell_type": "code",
      "metadata": {
        "id": "kVcQYegu68gK",
        "colab_type": "code",
        "outputId": "c3d13eb4-d8c0-44e9-a322-6125a197032d",
        "colab": {
          "base_uri": "https://localhost:8080/",
          "height": 204
        }
      },
      "source": [
        "## Remove page 1 since we already have it\n",
        "df2 = df2[1:]\n",
        "df2[0].head()"
      ],
      "execution_count": 12,
      "outputs": [
        {
          "output_type": "execute_result",
          "data": {
            "text/html": [
              "<div>\n",
              "<style scoped>\n",
              "    .dataframe tbody tr th:only-of-type {\n",
              "        vertical-align: middle;\n",
              "    }\n",
              "\n",
              "    .dataframe tbody tr th {\n",
              "        vertical-align: top;\n",
              "    }\n",
              "\n",
              "    .dataframe thead th {\n",
              "        text-align: right;\n",
              "    }\n",
              "</style>\n",
              "<table border=\"1\" class=\"dataframe\">\n",
              "  <thead>\n",
              "    <tr style=\"text-align: right;\">\n",
              "      <th></th>\n",
              "      <th>46</th>\n",
              "      <th>CIUDAD DE MÉXICO</th>\n",
              "      <th>F</th>\n",
              "      <th>44</th>\n",
              "      <th>15/03/2020</th>\n",
              "      <th>Sospechoso</th>\n",
              "      <th>Francia</th>\n",
              "      <th>15/03/2020.1</th>\n",
              "    </tr>\n",
              "  </thead>\n",
              "  <tbody>\n",
              "    <tr>\n",
              "      <th>0</th>\n",
              "      <td>47</td>\n",
              "      <td>QUINTANA ROO</td>\n",
              "      <td>M</td>\n",
              "      <td>45</td>\n",
              "      <td>15/03/2020</td>\n",
              "      <td>Sospechoso</td>\n",
              "      <td>Contacto</td>\n",
              "      <td>15/03/2020</td>\n",
              "    </tr>\n",
              "    <tr>\n",
              "      <th>1</th>\n",
              "      <td>48</td>\n",
              "      <td>JALISCO</td>\n",
              "      <td>M</td>\n",
              "      <td>54</td>\n",
              "      <td>13/03/2020</td>\n",
              "      <td>Sospechoso</td>\n",
              "      <td>Contacto</td>\n",
              "      <td>NA</td>\n",
              "    </tr>\n",
              "    <tr>\n",
              "      <th>2</th>\n",
              "      <td>49</td>\n",
              "      <td>VERACRUZ</td>\n",
              "      <td>F</td>\n",
              "      <td>34</td>\n",
              "      <td>12/03/2020</td>\n",
              "      <td>Sospechoso</td>\n",
              "      <td>Italia</td>\n",
              "      <td>14/03/2020</td>\n",
              "    </tr>\n",
              "    <tr>\n",
              "      <th>3</th>\n",
              "      <td>50</td>\n",
              "      <td>CIUDAD DE MÉXICO</td>\n",
              "      <td>F</td>\n",
              "      <td>22</td>\n",
              "      <td>11/03/2020</td>\n",
              "      <td>Sospechoso</td>\n",
              "      <td>España</td>\n",
              "      <td>08/03/2020</td>\n",
              "    </tr>\n",
              "    <tr>\n",
              "      <th>4</th>\n",
              "      <td>51</td>\n",
              "      <td>HIDALGO</td>\n",
              "      <td>F</td>\n",
              "      <td>23</td>\n",
              "      <td>14/03/2020</td>\n",
              "      <td>Sospechoso</td>\n",
              "      <td>Alemania</td>\n",
              "      <td>15/03/2020</td>\n",
              "    </tr>\n",
              "  </tbody>\n",
              "</table>\n",
              "</div>"
            ],
            "text/plain": [
              "   46  CIUDAD DE MÉXICO  F  44  15/03/2020  Sospechoso   Francia 15/03/2020.1\n",
              "0  47      QUINTANA ROO  M  45  15/03/2020  Sospechoso  Contacto   15/03/2020\n",
              "1  48           JALISCO  M  54  13/03/2020  Sospechoso  Contacto           NA\n",
              "2  49          VERACRUZ  F  34  12/03/2020  Sospechoso    Italia   14/03/2020\n",
              "3  50  CIUDAD DE MÉXICO  F  22  11/03/2020  Sospechoso    España   08/03/2020\n",
              "4  51           HIDALGO  F  23  14/03/2020  Sospechoso  Alemania   15/03/2020"
            ]
          },
          "metadata": {
            "tags": []
          },
          "execution_count": 12
        }
      ]
    },
    {
      "cell_type": "code",
      "metadata": {
        "id": "WMROw0uF832N",
        "colab_type": "code",
        "colab": {}
      },
      "source": [
        "# Add column headers to data frames\n",
        "cols = ['No de caso', \n",
        "    'Estado', \n",
        "    'Sexo',\n",
        "    'Edad',\n",
        "    'Fecha de Inicio de síntomas',\n",
        "    'Identificación de COVID-19 por RTPCR en tiempo real',\n",
        "    'Procedencia',\n",
        "    'Fecha de llegada a México'\n",
        "]\n",
        "\n",
        "# Initialize list with the cleaned df 0 \n",
        "dataFrames = [df0]\n",
        "\n",
        "# Iterate through the dataframes in df2 and add the column headers\n",
        "for dfx in df2:\n",
        "    # Add header value as data\n",
        "    first = dfx.columns\n",
        "    first_row = dict( zip(cols, first))\n",
        "    data = pd.DataFrame([first_row])\n",
        "    dataframe = pd.concat([data, pd.DataFrame(dfx.values, columns=cols)])\n",
        "    # append the dataframes\n",
        "    dataFrames.append(dataframe)\n"
      ],
      "execution_count": 0,
      "outputs": []
    },
    {
      "cell_type": "code",
      "metadata": {
        "id": "-zPmguN1-UrC",
        "colab_type": "code",
        "colab": {
          "base_uri": "https://localhost:8080/",
          "height": 589
        },
        "outputId": "f912ba24-de86-4e56-a3f5-434541d0c912"
      },
      "source": [
        "# Concatenate the cleaned data frames\n",
        "data = pd.concat(dataFrames,ignore_index=True)\n",
        "data"
      ],
      "execution_count": 14,
      "outputs": [
        {
          "output_type": "execute_result",
          "data": {
            "text/html": [
              "<div>\n",
              "<style scoped>\n",
              "    .dataframe tbody tr th:only-of-type {\n",
              "        vertical-align: middle;\n",
              "    }\n",
              "\n",
              "    .dataframe tbody tr th {\n",
              "        vertical-align: top;\n",
              "    }\n",
              "\n",
              "    .dataframe thead th {\n",
              "        text-align: right;\n",
              "    }\n",
              "</style>\n",
              "<table border=\"1\" class=\"dataframe\">\n",
              "  <thead>\n",
              "    <tr style=\"text-align: right;\">\n",
              "      <th></th>\n",
              "      <th>No de caso</th>\n",
              "      <th>Estado</th>\n",
              "      <th>Sexo</th>\n",
              "      <th>Edad</th>\n",
              "      <th>Fecha de Inicio de síntomas</th>\n",
              "      <th>Identificación de COVID-19 por RTPCR en tiempo real</th>\n",
              "      <th>Procedencia</th>\n",
              "      <th>Fecha de llegada a México</th>\n",
              "    </tr>\n",
              "  </thead>\n",
              "  <tbody>\n",
              "    <tr>\n",
              "      <th>0</th>\n",
              "      <td>1</td>\n",
              "      <td>SAN LUIS POTOSÍ</td>\n",
              "      <td>F</td>\n",
              "      <td>22</td>\n",
              "      <td>11/03/2020</td>\n",
              "      <td>Sospechoso</td>\n",
              "      <td>España</td>\n",
              "      <td>06/03/2020</td>\n",
              "    </tr>\n",
              "    <tr>\n",
              "      <th>1</th>\n",
              "      <td>2</td>\n",
              "      <td>CIUDAD DE MÉXICO</td>\n",
              "      <td>F</td>\n",
              "      <td>26</td>\n",
              "      <td>13/03/2020</td>\n",
              "      <td>Sospechoso</td>\n",
              "      <td>España</td>\n",
              "      <td>13/03/2020</td>\n",
              "    </tr>\n",
              "    <tr>\n",
              "      <th>2</th>\n",
              "      <td>3</td>\n",
              "      <td>MÉXICO</td>\n",
              "      <td>M</td>\n",
              "      <td>23</td>\n",
              "      <td>03/03/2020</td>\n",
              "      <td>Sospechoso</td>\n",
              "      <td>España</td>\n",
              "      <td>02/03/2020</td>\n",
              "    </tr>\n",
              "    <tr>\n",
              "      <th>3</th>\n",
              "      <td>4</td>\n",
              "      <td>MÉXICO</td>\n",
              "      <td>M</td>\n",
              "      <td>34</td>\n",
              "      <td>16/02/2020</td>\n",
              "      <td>Sospechoso</td>\n",
              "      <td>Italia</td>\n",
              "      <td>29/02/2020</td>\n",
              "    </tr>\n",
              "    <tr>\n",
              "      <th>4</th>\n",
              "      <td>5</td>\n",
              "      <td>CIUDAD DE MÉXICO</td>\n",
              "      <td>F</td>\n",
              "      <td>30</td>\n",
              "      <td>07/03/2020</td>\n",
              "      <td>Sospechoso</td>\n",
              "      <td>España</td>\n",
              "      <td>28/02/2020</td>\n",
              "    </tr>\n",
              "    <tr>\n",
              "      <th>...</th>\n",
              "      <td>...</td>\n",
              "      <td>...</td>\n",
              "      <td>...</td>\n",
              "      <td>...</td>\n",
              "      <td>...</td>\n",
              "      <td>...</td>\n",
              "      <td>...</td>\n",
              "      <td>...</td>\n",
              "    </tr>\n",
              "    <tr>\n",
              "      <th>435</th>\n",
              "      <td>444</td>\n",
              "      <td>CIUDAD DE MÉXICO</td>\n",
              "      <td>F</td>\n",
              "      <td>57</td>\n",
              "      <td>15/03/2020</td>\n",
              "      <td>Sospechoso</td>\n",
              "      <td>Estados Unidos</td>\n",
              "      <td>11/03/2020</td>\n",
              "    </tr>\n",
              "    <tr>\n",
              "      <th>436</th>\n",
              "      <td>445</td>\n",
              "      <td>MÉXICO</td>\n",
              "      <td>M</td>\n",
              "      <td>33</td>\n",
              "      <td>10/03/2020</td>\n",
              "      <td>Sospechoso</td>\n",
              "      <td>Estados Unidos</td>\n",
              "      <td>10/03/2020</td>\n",
              "    </tr>\n",
              "    <tr>\n",
              "      <th>437</th>\n",
              "      <td>446</td>\n",
              "      <td>CIUDAD DE MÉXICO</td>\n",
              "      <td>M</td>\n",
              "      <td>40</td>\n",
              "      <td>09/03/2020</td>\n",
              "      <td>Sospechoso</td>\n",
              "      <td>Italia</td>\n",
              "      <td>08/03/2020</td>\n",
              "    </tr>\n",
              "    <tr>\n",
              "      <th>438</th>\n",
              "      <td>447</td>\n",
              "      <td>MÉXICO</td>\n",
              "      <td>M</td>\n",
              "      <td>15</td>\n",
              "      <td>08/03/2020</td>\n",
              "      <td>Sospechoso</td>\n",
              "      <td>Estados Unidos</td>\n",
              "      <td>08/03/2020</td>\n",
              "    </tr>\n",
              "    <tr>\n",
              "      <th>439</th>\n",
              "      <td>448</td>\n",
              "      <td>MÉXICO</td>\n",
              "      <td>M</td>\n",
              "      <td>17</td>\n",
              "      <td>10/03/2020</td>\n",
              "      <td>Sospechoso</td>\n",
              "      <td>Estados Unidos</td>\n",
              "      <td>08/03/2020</td>\n",
              "    </tr>\n",
              "  </tbody>\n",
              "</table>\n",
              "<p>440 rows × 8 columns</p>\n",
              "</div>"
            ],
            "text/plain": [
              "    No de caso            Estado  ...     Procedencia Fecha de llegada a México\n",
              "0            1   SAN LUIS POTOSÍ  ...          España                06/03/2020\n",
              "1            2  CIUDAD DE MÉXICO  ...          España                13/03/2020\n",
              "2            3            MÉXICO  ...          España                02/03/2020\n",
              "3            4            MÉXICO  ...          Italia                29/02/2020\n",
              "4            5  CIUDAD DE MÉXICO  ...          España                28/02/2020\n",
              "..         ...               ...  ...             ...                       ...\n",
              "435        444  CIUDAD DE MÉXICO  ...  Estados Unidos                11/03/2020\n",
              "436        445            MÉXICO  ...  Estados Unidos                10/03/2020\n",
              "437        446  CIUDAD DE MÉXICO  ...          Italia                08/03/2020\n",
              "438        447            MÉXICO  ...  Estados Unidos                08/03/2020\n",
              "439        448            MÉXICO  ...  Estados Unidos                08/03/2020\n",
              "\n",
              "[440 rows x 8 columns]"
            ]
          },
          "metadata": {
            "tags": []
          },
          "execution_count": 14
        }
      ]
    },
    {
      "cell_type": "markdown",
      "metadata": {
        "id": "JgTnxlbp-UFZ",
        "colab_type": "text"
      },
      "source": [
        "## Export the data set:"
      ]
    },
    {
      "cell_type": "code",
      "metadata": {
        "id": "uiF6mTpJ8XBM",
        "colab_type": "code",
        "colab": {}
      },
      "source": [
        "today = date.today()\n",
        "d1 = today.strftime(\"%Y-%m-%d\")\n",
        "filename = \"sospechosos-\"+ d1+\".csv\"\n",
        "data.to_csv(filename)"
      ],
      "execution_count": 0,
      "outputs": []
    }
  ]
}